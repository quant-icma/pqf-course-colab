{
 "cells": [
  {
   "cell_type": "markdown",
   "metadata": {},
   "source": [
    "# Assessment\n",
    "\n",
    "## Marking\n",
    "\n",
    "Here's the overall breakdown of the marking scheme:\n",
    "\n",
    "|  Component  | Deadline | Weight |\n",
    "|-------------|----------|--------|\n",
    "|Assignment 1 |   2/10   |   10%  |\n",
    "|Assignment 2 |   2/24   |   10%  |\n",
    "|Assignment 3 |   3/03   |   10%  |\n",
    "|Final Project|   4/30   |  70%  |\n",
    "\n",
    "## Assignments\n",
    "\n",
    "There are 3 individual programming assignments. Each count for 10% of your final mark.\n",
    "All assignments are programming assignments and you only need to submit your working code.\n",
    "The deadline for submitting your code is at 12.00 midday on the due date. \n",
    "You will receive your mark and feedback within 1 week of submission.\n",
    "\n",
    "## Final Project\n",
    "\n",
    "The final project counts for 70% of the final mark. It is a group project."
   ]
  }
 ],
 "metadata": {
  "kernelspec": {
   "display_name": "Python 3",
   "name": "python3"
  },
  "language_info": {
   "name": "python"
  }
 },
 "nbformat": 4,
 "nbformat_minor": 4
}