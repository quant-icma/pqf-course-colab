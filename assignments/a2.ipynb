{
 "cells": [
  {
   "cell_type": "markdown",
   "metadata": {},
   "source": [
    "# Assignment 2\n",
    "\n",
    "Complete the code snippets in a colab notebook. \n",
    "Download the notebook file and submit in Blackboard."
   ]
  },
  {
   "cell_type": "code",
   "execution_count": 1,
   "metadata": {},
   "outputs": [],
   "source": [
    "import numpy as np"
   ]
  },
  {
   "cell_type": "code",
   "execution_count": 2,
   "metadata": {},
   "outputs": [],
   "source": [
    "class Call:\n",
    "    \n",
    "    def __init__(self, strike):\n",
    "        self.strike = strike\n",
    "\n",
    "    def __call__(self, spot):\n",
    "        return np.maximum(spot - self.strike, 0.)"
   ]
  },
  {
   "cell_type": "code",
   "execution_count": 3,
   "metadata": {},
   "outputs": [],
   "source": [
    "class VanillaOption:\n",
    "    # Implement a vanilla option class\n",
    "    # The class with have no methods apart from the constructor\n",
    "    # when you are done delete the 'pass' statement\n",
    "    \n",
    "\n",
    "    # The constructor will initialize two attributes:\n",
    "    #  - maturity\n",
    "    #  - payoff object\n",
    "\n",
    "    pass    "
   ]
  },
  {
   "cell_type": "code",
   "execution_count": 4,
   "metadata": {},
   "outputs": [],
   "source": [
    "class BlackScholesProcess:\n",
    "    # Implement the stochastic process class\n",
    "    # The class with have:\n",
    "    #   - a constructor\n",
    "    #   - an evolve method\n",
    "    # when you are done delete the 'pass' statement\n",
    "\n",
    "    # The constructor will initialize 3 attributes:\n",
    "    #    - spot: initial spot price\n",
    "    #    - rate: constant interest rate\n",
    "    #    - vol: constant vol\n",
    "    \n",
    "\n",
    "    # The 'evolve' method will take 2 arguments:\n",
    "    #   - time: the time horizon to simulate the process to\n",
    "    #   - norms: the sampled standard normal variables\n",
    "    # 'evolve' will return the simulate paths of the underlying using \n",
    "    #  the solution of the Black-Scholes stochastic differential equation\n",
    "\n",
    "    pass\n",
    "        "
   ]
  },
  {
   "cell_type": "code",
   "execution_count": 5,
   "metadata": {},
   "outputs": [],
   "source": [
    "class FixedRateYieldCurve:\n",
    "    \n",
    "    # Implement the stochastic process class\n",
    "    # The class with have:\n",
    "    #   - a constructor\n",
    "    #   - a discount method\n",
    "    # when you are done delete the 'pass' statement\n",
    "\n",
    "    # The constructor will initialize 1 attribute:\n",
    "    #    - rate: constant interest rate\n",
    "      \n",
    "\n",
    "    # The 'discount' method will take 1 argument:\n",
    "    #   - maturity: the maturity it will compute the discount factor for\n",
    "    # 'discount' will return the discount factor\n",
    "\n",
    "    pass"
   ]
  },
  {
   "cell_type": "markdown",
   "metadata": {},
   "source": [
    "Here is a function that can use your classes:"
   ]
  },
  {
   "cell_type": "code",
   "execution_count": 6,
   "metadata": {},
   "outputs": [],
   "source": [
    "def mc_price_european(process, option, yield_curve, n_paths):\n",
    "    std_norms = np.random.normal(size=n_paths)\n",
    "    S_T = process.evolve(option.maturity, std_norms)\n",
    "    V_T = yield_curve.discount(option.maturity) * option.payoff(S_T)\n",
    "    V_0 = np.average(V_T)   \n",
    "\n",
    "    return V_0"
   ]
  },
  {
   "cell_type": "markdown",
   "metadata": {},
   "source": [
    "Some example inputs:"
   ]
  },
  {
   "cell_type": "code",
   "execution_count": 7,
   "metadata": {},
   "outputs": [],
   "source": [
    "T = 5.\n",
    "S_0 = 100.\n",
    "vol = 0.2\n",
    "r = 0.02\n",
    "K = 100\n",
    "K2 = 120\n",
    "N = 10000"
   ]
  },
  {
   "cell_type": "markdown",
   "metadata": {},
   "source": [
    "Let's instantiate objects from your classes:"
   ]
  },
  {
   "cell_type": "code",
   "execution_count": 8,
   "metadata": {},
   "outputs": [],
   "source": [
    "## Uncomment the lines below\n",
    "\n",
    "# yield_curve = FixedRateYieldCurve(r)\n",
    "# rand_process = BlackScholesProcess(S_0, r, vol)\n",
    "# call_payoff = Call(K)\n",
    "# call_option = VanillaOption(T, call_payoff)"
   ]
  },
  {
   "cell_type": "markdown",
   "metadata": {},
   "source": [
    "and use them:"
   ]
  },
  {
   "cell_type": "code",
   "execution_count": 9,
   "metadata": {},
   "outputs": [],
   "source": [
    "## Uncomment the lines below\n",
    "\n",
    "# c = mc_price_european(rand_process, call_option, yield_curve, N)\n",
    "# print(c)"
   ]
  },
  {
   "cell_type": "markdown",
   "metadata": {},
   "source": [
    "Now, do the same with a couple more payoff types:"
   ]
  },
  {
   "cell_type": "code",
   "execution_count": 10,
   "metadata": {},
   "outputs": [],
   "source": [
    "class Put:\n",
    "    # Implement the payoff class\n",
    "    pass    "
   ]
  },
  {
   "cell_type": "code",
   "execution_count": 11,
   "metadata": {},
   "outputs": [],
   "source": [
    "class DoubleDigital:\n",
    "    # Implement the payoff class\n",
    "    pass    "
   ]
  },
  {
   "cell_type": "markdown",
   "metadata": {},
   "source": [
    "and use them:"
   ]
  },
  {
   "cell_type": "code",
   "execution_count": 12,
   "metadata": {},
   "outputs": [],
   "source": [
    "# Uncomment the lines below and complete them\n",
    "\n",
    "# put_payoff = ...\n",
    "# put_option = ...\n",
    "# put_price = mc_price_european(...)\n",
    "# print(put_price)"
   ]
  },
  {
   "cell_type": "code",
   "execution_count": 13,
   "metadata": {},
   "outputs": [],
   "source": [
    "# Uncomment the lines below and complete them\n",
    "\n",
    "# dbl_digit_payoff = ...\n",
    "# double_digital_option = ...\n",
    "# dbl_digital_price = mc_price_european(...)\n",
    "# print(dbl_digital_price)"
   ]
  }
 ],
 "metadata": {
  "kernelspec": {
   "display_name": "Python 3",
   "name": "python3"
  },
  "language_info": {
   "name": "python"
  }
 },
 "nbformat": 4,
 "nbformat_minor": 4
}