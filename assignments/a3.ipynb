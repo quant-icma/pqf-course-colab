{
 "cells": [
  {
   "cell_type": "markdown",
   "metadata": {},
   "source": [
    "# Assignment 3\n",
    "\n",
    "Starting from the design demonstrated in section :ref:`inheritance`, implement a Monte-Carlo pricer for barrier options:\n",
    "\n",
    "- Up-and-out\n",
    "- Down-and-out\n",
    "- Up-and-in\n",
    "- Down-and-in\n",
    "\n",
    "and come with test cases to validate your implementation.\n",
    "\n",
    "Use vscode to develop your code and submit your `.py` python files on BlackBoard."
   ]
  }
 ],
 "metadata": {
  "kernelspec": {
   "display_name": "Python 3",
   "name": "python3"
  },
  "language_info": {
   "name": "python"
  }
 },
 "nbformat": 4,
 "nbformat_minor": 4
}