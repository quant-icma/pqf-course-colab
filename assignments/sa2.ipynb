{
 "cells": [
  {
   "cell_type": "markdown",
   "metadata": {},
   "source": [
    "# Solutions 2"
   ]
  },
  {
   "cell_type": "code",
   "execution_count": 1,
   "metadata": {},
   "outputs": [],
   "source": [
    "import numpy as np"
   ]
  },
  {
   "cell_type": "code",
   "execution_count": 2,
   "metadata": {},
   "outputs": [],
   "source": [
    "class Call:\n",
    "    \n",
    "    def __init__(self, strike):\n",
    "        self.strike = strike\n",
    "\n",
    "    def __call__(self, spot):\n",
    "        return np.maximum(spot - self.strike, 0.)"
   ]
  },
  {
   "cell_type": "code",
   "execution_count": 3,
   "metadata": {},
   "outputs": [],
   "source": [
    "class VanillaOption:\n",
    "    \n",
    "    def __init__(self, maturity, payoff):\n",
    "        self.maturity = maturity\n",
    "        self.payoff = payoff\n"
   ]
  },
  {
   "cell_type": "code",
   "execution_count": 4,
   "metadata": {},
   "outputs": [],
   "source": [
    "class BlackScholesProcess:\n",
    "    def __init__(self, spot, rate, vol):\n",
    "        self.spot = spot\n",
    "        self.rate = rate\n",
    "        self.vol = vol\n",
    "\n",
    "\n",
    "    def evolve(self, time, norms):\n",
    "        ST = self.spot * np.exp( (self.rate - 0.5 *self.vol**2)*time + self.vol*np.sqrt(time)*norms )\n",
    "        return ST\n",
    "        "
   ]
  },
  {
   "cell_type": "code",
   "execution_count": 5,
   "metadata": {},
   "outputs": [],
   "source": [
    "class FixedRateYieldCurve:\n",
    "    \n",
    "    def __init__(self, rate):\n",
    "        self.rate = rate\n",
    "      \n",
    "\n",
    "    def discount(self, maturity):\n",
    "        return np.exp(-self.rate * maturity)"
   ]
  },
  {
   "cell_type": "code",
   "execution_count": 6,
   "metadata": {},
   "outputs": [],
   "source": [
    "def mc_price_european(process, option, yield_curve, n_paths):\n",
    "    std_norms = np.random.normal(size=n_paths)\n",
    "    S_T = process.evolve(option.maturity, std_norms)\n",
    "    V_T = yield_curve.discount(option.maturity) * option.payoff(S_T)\n",
    "    V_0 = np.average(V_T)   \n",
    "\n",
    "    return V_0"
   ]
  },
  {
   "cell_type": "code",
   "execution_count": 7,
   "metadata": {},
   "outputs": [],
   "source": [
    "T = 5.\n",
    "S_0 = 100.\n",
    "vol = 0.2\n",
    "r = 0.02\n",
    "K = 100\n",
    "K2 = 120\n",
    "N = 10000"
   ]
  },
  {
   "cell_type": "code",
   "execution_count": 8,
   "metadata": {},
   "outputs": [],
   "source": [
    "yield_curve = FixedRateYieldCurve(r)\n",
    "rand_process = BlackScholesProcess(S_0, r, vol)\n",
    "call_payoff = Call(K)\n",
    "call_option = VanillaOption(T, call_payoff)"
   ]
  },
  {
   "cell_type": "code",
   "execution_count": 9,
   "metadata": {},
   "outputs": [
    {
     "name": "stdout",
     "output_type": "stream",
     "text": [
      "21.91524141421885\n"
     ]
    }
   ],
   "source": [
    "c = mc_price_european(rand_process, call_option, yield_curve, N)\n",
    "print(c)"
   ]
  },
  {
   "cell_type": "code",
   "execution_count": 10,
   "metadata": {},
   "outputs": [],
   "source": [
    "class Put:\n",
    "    def __init__(self, strike):\n",
    "        self.strike = strike\n",
    "\n",
    "    def __call__(self, spot):\n",
    "        return np.maximum(self.strike - spot, 0.)    "
   ]
  },
  {
   "cell_type": "code",
   "execution_count": 11,
   "metadata": {},
   "outputs": [],
   "source": [
    "class DoubleDigital:\n",
    "    def __init__(self, low, high):\n",
    "        self.low = low\n",
    "        self.high = high\n",
    "\n",
    "    def __call__(self, spot):\n",
    "        payoff = np.zeros_like(spot)    \n",
    "        indices_low = np.where(self.low <= spot)\n",
    "        indices_high = np.where(self.high >= spot)\n",
    "        payoff[indices_low and indices_high] = 1\n",
    "        return payoff"
   ]
  },
  {
   "cell_type": "code",
   "execution_count": 12,
   "metadata": {},
   "outputs": [
    {
     "name": "stdout",
     "output_type": "stream",
     "text": [
      "12.782182647182157\n"
     ]
    }
   ],
   "source": [
    "put_payoff = Put(K)\n",
    "put_option = VanillaOption(T, put_payoff)\n",
    "put_price = mc_price_european(rand_process, put_option, yield_curve, N)\n",
    "print(put_price)"
   ]
  },
  {
   "cell_type": "code",
   "execution_count": 13,
   "metadata": {},
   "outputs": [
    {
     "name": "stdout",
     "output_type": "stream",
     "text": [
      "0.5976451146127513\n"
     ]
    }
   ],
   "source": [
    "dbl_digit_payoff = DoubleDigital(K, K2)\n",
    "double_digital_option = VanillaOption(T, dbl_digit_payoff)\n",
    "dbl_digital_price = mc_price_european(rand_process, double_digital_option, yield_curve, N)\n",
    "print(dbl_digital_price)"
   ]
  }
 ],
 "metadata": {
  "kernelspec": {
   "display_name": "Python 3",
   "name": "python3"
  },
  "language_info": {
   "name": "python"
  }
 },
 "nbformat": 4,
 "nbformat_minor": 4
}