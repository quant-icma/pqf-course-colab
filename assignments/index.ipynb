{
 "cells": [
  {
   "cell_type": "markdown",
   "metadata": {},
   "source": [
    "# Assignments\n",
    "\n",
    ":begin_tab:toc\n",
    " - [a1](a1.ipynb)\n",
    " - [sa1](sa1.ipynb)\n",
    " - [a2](a2.ipynb)\n",
    " - [sa2](sa2.ipynb)\n",
    " - [a3](a3.ipynb)\n",
    ":end_tab:\n"
   ]
  }
 ],
 "metadata": {
  "kernelspec": {
   "display_name": "Python 3",
   "name": "python3"
  },
  "language_info": {
   "name": "python"
  }
 },
 "nbformat": 4,
 "nbformat_minor": 4
}