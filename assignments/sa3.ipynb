{
 "cells": [
  {
   "cell_type": "markdown",
   "metadata": {},
   "source": [
    "# Solutions 3"
   ]
  },
  {
   "cell_type": "code",
   "execution_count": 1,
   "metadata": {},
   "outputs": [],
   "source": [
    "import numpy as np\n",
    "\n",
    "class Call:\n",
    "    \n",
    "    def __init__(self, strike):\n",
    "        self.strike = strike\n",
    "\n",
    "    def __call__(self, spot):\n",
    "        return np.maximum(spot - self.strike, 0.)\n",
    "        \n",
    "class FixedRateYieldCurve:\n",
    "    def __init__(self, rate):\n",
    "        self.rate = rate\n",
    "        \n",
    "    def discount(self, maturity):\n",
    "        return np.exp(-self.rate * maturity)"
   ]
  },
  {
   "cell_type": "code",
   "execution_count": 2,
   "metadata": {},
   "outputs": [],
   "source": [
    "def mc_path_dependent(option_state, process, yield_curve, n_paths):\n",
    "    \"\"\"Computes the fair value of a path-dependent option using Monte-Carlo simulations.\n",
    "    \n",
    "    Parameters\n",
    "    ----------\n",
    "    option_state : OptionState\n",
    "        The option payoff state variable recorder\n",
    "    process : object with method update()\n",
    "        The underlying's stochastic process evolver\n",
    "    yield_curve : object with method discount()\n",
    "        The yield curve for discounting future cash flows\n",
    "    n_paths : int\n",
    "        The number of paths to simulate\n",
    "    \"\"\"\n",
    "\n",
    "    # Helper function to process one path\n",
    "    def do_one_path(times):\n",
    "        # move over each time node\n",
    "        for t in times: \n",
    "            # generate one standard normal variable\n",
    "            std_norm = np.random.normal() \n",
    "            # simulate the value of the underlying at the next time\n",
    "            St = process.update(t, std_norm) \n",
    "            # pass the value of the underlying at time t to the option_state\n",
    "            # so it can use it when computing the payoff\n",
    "            option_state.update(t, St) \n",
    "        \n",
    "        return option_state.calculate_payoff()\n",
    "\n",
    "\n",
    "    # query for the times needed in the simulation\n",
    "    times = option_state.times \n",
    "    # initialize the running sum to zero\n",
    "    running_sum = 0 \n",
    "    for i in range(n_paths):\n",
    "        # reset process to start a new simulation\n",
    "        process.reset()        \n",
    "        # reset option state to a start a new simulation\n",
    "        option_state.reset()\n",
    "        # simulate one path\n",
    "        path_value = do_one_path(times)\n",
    "        # update the running sum with the payoff at the end of the path\n",
    "        running_sum += path_value\n",
    "    \n",
    "    return running_sum / n_paths * yield_curve.discount(option_state.expiry)"
   ]
  },
  {
   "cell_type": "code",
   "execution_count": 3,
   "metadata": {},
   "outputs": [],
   "source": [
    "class Process:\n",
    "    \"\"\"\n",
    "    A class used to simulate a stochastic process\n",
    "\n",
    "    Inner classes\n",
    "    -------------\n",
    "    StateData : encapsulates the mutable state data (spot, time)\n",
    "\n",
    "    Attributes\n",
    "    ----------\n",
    "    spot : float\n",
    "        The starting value of the stochastic process\n",
    "    state : Process.StateData\n",
    "        The current value of the mutable state (spot and time)\n",
    "    \n",
    "    Methods\n",
    "    -------\n",
    "    reset()\n",
    "        Reset the state of the object back to the initial state to start a new path\n",
    "    evolve(spot, dt, norms)\n",
    "        Simulate the next value of the spot for a time increment dt\n",
    "    update(time, norms)\n",
    "        Simulate the process to time using the standard normal variable norms\n",
    "    \"\"\"\n",
    "\n",
    "    class StateData:\n",
    "        \"\"\"Mutable state of the process\"\"\"\n",
    "\n",
    "        def __init__(self, spot, time):\n",
    "            \"\"\"\n",
    "            Parameters\n",
    "            ----------\n",
    "            spot : float\n",
    "                The current value of the stochastic process\n",
    "            time : float\n",
    "                The current time in the simulation\n",
    "            \"\"\"\n",
    "            self.spot = spot\n",
    "            self.time = time\n",
    "        \n",
    "        def __repr__(self):\n",
    "            return \"{}({!r}, {!r})\".format(\n",
    "            self.__class__.__name__,\n",
    "            self.spot, self.time\n",
    "        )\n",
    "   \n",
    "    def __init__(self, state):  \n",
    "        \"\"\"\n",
    "        Parameters\n",
    "        ----------\n",
    "        state : Process.StateData\n",
    "            The current value of the stochastic process\n",
    "        \"\"\"\n",
    "        self.spot = state.spot\n",
    "        # a simulation path starts at time 0 from value spot\n",
    "        self.state = state\n",
    "        \n",
    "    def __repr__(self):\n",
    "        return \"{}({!r}, {!r})\".format(\n",
    "            self.__class__.__name__,\n",
    "            self.spot, self.state\n",
    "        )\n",
    "    \n",
    "    def reset(self):\n",
    "        \"\"\"Reset the state before starting a new path\"\"\"\n",
    "        self.state = self.StateData(self.spot, 0)\n",
    "\n",
    "    def evolve(self, spot, dt, norms):\n",
    "        \"\"\"\n",
    "        Simulates the next value of the process for a time increment dt\n",
    "        Should be implemented in subclasses to return the next spot value\n",
    "        \n",
    "        Parameters\n",
    "        ----------\n",
    "        spot : float\n",
    "            The current value of the stochastic process\n",
    "        dt: flost\n",
    "            The time increment\n",
    "        norms: float\n",
    "            The standard normal variable to simulate a Brownian increment\n",
    "        \"\"\"\n",
    "        raise NotImplementedError(\n",
    "            \"Classes derived from Process should implement evolve() method\")\n",
    "\n",
    "    def update(self, time, norms):        \n",
    "        \"\"\"\n",
    "        Updates the process state to time `time`\n",
    "        \n",
    "        Parameters\n",
    "        ----------\n",
    "        time : float\n",
    "            The time to evolve the process to\n",
    "        norms: float\n",
    "            The standard normal variable to simulate a Brownian increment\n",
    "        \"\"\"        \n",
    "        # calculate time increment\n",
    "        dt = time - self.state.time\n",
    "        # simulate spot incrementally\n",
    "        st = self.evolve(self.state.spot, dt, norms)\n",
    "        # update state\n",
    "        self.state = self.StateData(st, time)\n",
    "\n",
    "        return st"
   ]
  },
  {
   "cell_type": "code",
   "execution_count": 4,
   "metadata": {},
   "outputs": [],
   "source": [
    "class BlackScholesProcess(Process):\n",
    "    \"\"\"A class used to simulate a Black-Scholes Geometric Brownian Motion process\"\"\"\n",
    "\n",
    "    def __init__(self, spot, rate, vol):  \n",
    "        \"\"\"\n",
    "        Parameters\n",
    "        ----------\n",
    "        spot : float\n",
    "\n",
    "            The starting value of the stochastic process\n",
    "        rate : float\n",
    "            The risk-free rate for the risk-neutral drift\n",
    "        vol : float\n",
    "            The annualized instantaneous volatility\n",
    "        \"\"\"\n",
    "        super().__init__(Process.StateData(spot, 0))\n",
    "        self.rate = rate\n",
    "        self.vol = vol\n",
    "        \n",
    "    def __repr__(self):\n",
    "        return \"{}({!r}, {!r}, {!r}, {!r})\".format(\n",
    "            self.__class__.__name__,\n",
    "            self.spot, self.rate, self.vol, self.state\n",
    "        )\n",
    "    \n",
    "    def evolve(self, spot, dt, norms):                \n",
    "        st = spot * np.exp((self.rate - 0.5 * self.vol**2) * dt + self.vol*np.sqrt(dt)*norms)        \n",
    "        return st"
   ]
  },
  {
   "cell_type": "code",
   "execution_count": 5,
   "metadata": {},
   "outputs": [],
   "source": [
    "class OptionState: \n",
    "\n",
    "    class StateData:\n",
    "\n",
    "        def __init__(self, updates, underlying, state):\n",
    "            self.updates = updates\n",
    "            self.underlying = underlying\n",
    "            self.state = state\n",
    "\n",
    "        def __repr__(self):\n",
    "            return \"{}({!r}, {!r}, {!r})\".format(\n",
    "                self.__class__.__name__,\n",
    "                self.updates, self.underlying, self.state)        \n",
    "\n",
    "\n",
    "    def __init__(self, spot, expiry, payoff, times, state_data=None):\n",
    "        self.spot = spot\n",
    "        self.expiry = expiry\n",
    "        self.payoff = payoff\n",
    "        self.times = times\n",
    "        self.state_data = state_data if state_data else self.StateData([], [], None)\n",
    "\n",
    "    def reset(self):\n",
    "        self.state_data = self.StateData([], [], None)    \n",
    "    \n",
    "    def __repr__(self):\n",
    "        return (\"{}({!r}, {!r}, {!r}, {!r}, {!r})\".format(\n",
    "            self.__class__.__name__,\n",
    "            self.spot, self.expiry, self.payoff, self.times, self.state_data))\n",
    "\n",
    "    def has_expired(self):\n",
    "        if self.state_data.updates:\n",
    "            return self.expiry <= max(self.state_data.updates)\n",
    "        else:\n",
    "            return False\n",
    "    \n",
    "    def update(self, time, underlying):\n",
    "        if time in self.times and  time not in self.state_data.updates:\n",
    "            self.state_data.updates.append(time)\n",
    "            self.state_data.underlying.append(underlying)        \n",
    "            self.state_data.state = self.update_state()        \n",
    "    \n",
    "    def update_state(self):\n",
    "        if self.has_expired():\n",
    "            return self.calculate_state_variable()\n",
    "        else:\n",
    "            return None\n",
    "        \n",
    "    def calculate_state_variable(self):\n",
    "        raise NotImplementedError(\n",
    "            \"Classes derived from OptionState should implement calculate_state_variable() method\")\n",
    "    \n",
    "    def is_payoff_active(self):\n",
    "        return True\n",
    "\n",
    "    def calculate_payoff(self):\n",
    "        if self.has_expired():\n",
    "            if self.is_payoff_active():\n",
    "                return self.payoff(self.state_data.state)\n",
    "            else:\n",
    "                return 0.\n",
    "        else:\n",
    "            raise RuntimeError(\n",
    "                \"calculate_payoff() should only be called once option is expired\")\n",
    "    "
   ]
  },
  {
   "cell_type": "code",
   "execution_count": 6,
   "metadata": {},
   "outputs": [],
   "source": [
    "class BarrierState(OptionState):\n",
    "    \n",
    "    def __init__(self, barrier, *args, **kargs):\n",
    "        self.barrier = barrier\n",
    "        super().__init__(*args, **kargs)\n",
    "\n",
    "    def is_payoff_active(self):\n",
    "        raise NotImplementedError(\n",
    "            \"Classes derived from BarrierState should implement is_payoff_active() method\")            \n",
    "\n",
    "    def calculate_state_variable(self):\n",
    "        return self.state_data.underlying[-1]"
   ]
  },
  {
   "cell_type": "code",
   "execution_count": 7,
   "metadata": {},
   "outputs": [],
   "source": [
    "class UpAndOut(BarrierState):\n",
    "\n",
    "    def is_payoff_active(self):\n",
    "        return max(self.state_data.underlying) < self.barrier\n",
    "\n",
    "class DownAndOut(BarrierState):\n",
    "\n",
    "    def is_payoff_active(self):\n",
    "        return min(self.state_data.underlying) > self.barrier    \n",
    "\n",
    "class UpAndIn(BarrierState):\n",
    "\n",
    "    def is_payoff_active(self):\n",
    "        return max(self.state_data.underlying) > self.barrier    \n",
    "\n",
    "class DownAndIn(BarrierState):\n",
    "\n",
    "    def is_payoff_active(self):\n",
    "        return min(self.state_data.underlying) < self.barrier    "
   ]
  },
  {
   "cell_type": "code",
   "execution_count": 8,
   "metadata": {},
   "outputs": [],
   "source": [
    "T = 5.\n",
    "S_0 = 100.\n",
    "vol = 0.2\n",
    "r = 0.02\n",
    "K = 100\n",
    "N = 10000\n",
    "\n",
    "times = [1, 2, 3, 4, 5]\n",
    "yield_curve = FixedRateYieldCurve(r)\n",
    "rand_process = BlackScholesProcess(S_0, r, vol)\n",
    "call_payoff = Call(K)"
   ]
  },
  {
   "cell_type": "code",
   "execution_count": 9,
   "metadata": {},
   "outputs": [
    {
     "data": {
      "text/plain": [
       "0.620177148925837"
      ]
     },
     "execution_count": 9,
     "metadata": {},
     "output_type": "execute_result"
    }
   ],
   "source": [
    "B = 120\n",
    "uao = UpAndOut(B, S_0, T, call_payoff, times)\n",
    "mc_path_dependent(uao, rand_process, yield_curve, N)"
   ]
  },
  {
   "cell_type": "code",
   "execution_count": 10,
   "metadata": {},
   "outputs": [
    {
     "data": {
      "text/plain": [
       "20.361326619773607"
      ]
     },
     "execution_count": 10,
     "metadata": {},
     "output_type": "execute_result"
    }
   ],
   "source": [
    "B = 80\n",
    "dao = DownAndOut(B, S_0, T, call_payoff, times)\n",
    "mc_path_dependent(dao, rand_process, yield_curve, N)"
   ]
  },
  {
   "cell_type": "code",
   "execution_count": 11,
   "metadata": {},
   "outputs": [
    {
     "data": {
      "text/plain": [
       "21.308234241428526"
      ]
     },
     "execution_count": 11,
     "metadata": {},
     "output_type": "execute_result"
    }
   ],
   "source": [
    "B = 120\n",
    "uai = UpAndIn(B, S_0, T, call_payoff, times)\n",
    "mc_path_dependent(uai, rand_process, yield_curve, N)"
   ]
  },
  {
   "cell_type": "code",
   "execution_count": 12,
   "metadata": {},
   "outputs": [
    {
     "data": {
      "text/plain": [
       "1.3857260789432175"
      ]
     },
     "execution_count": 12,
     "metadata": {},
     "output_type": "execute_result"
    }
   ],
   "source": [
    "B = 80\n",
    "dai = DownAndIn(B, S_0, T, call_payoff, times)\n",
    "mc_path_dependent(dai, rand_process, yield_curve, N)"
   ]
  }
 ],
 "metadata": {
  "kernelspec": {
   "display_name": "Python 3",
   "name": "python3"
  },
  "language_info": {
   "name": "python"
  }
 },
 "nbformat": 4,
 "nbformat_minor": 4
}