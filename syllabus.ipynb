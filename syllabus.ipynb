{
 "cells": [
  {
   "cell_type": "markdown",
   "metadata": {},
   "source": [
    "# Syllabus\n",
    "\n",
    "Below, you can find an approximate timetable of the course. \n",
    "The live lectures are organized as interactive discussions \n",
    "and hands-on practical sessions to work around any issues you\n",
    "might have with the working environment and help with any debugging \n",
    "issues. \n",
    "\n",
    "\n",
    "| Date | Topic |\n",
    "|------|------|\n",
    "| 1/27 | Introduction, Logistics, Programming Environment, REPL |\n",
    "| 2/03 | Types, Branching, Iteration, Containers, Jupyter|\n",
    "| 2/10 | Functions, List slicing, numpy, matplotlib, Jupyter|\n",
    "| 2/10 | A1 Deadline|\n",
    "| 2/24 | Classes, numpy, scipy, Spyder|\n",
    "| 3/03 | Classes, exceptions, pandas, vscode|\n",
    "| 3/03 | A2 Deadline|\n",
    "| 3/10 | Classes, exceptions, pandas, vscode|\n",
    "| 3/10 | A3 Deadline|\n",
    "| 3/17 | Project design, tests, vscode|\n",
    "| 3/17 | A4 Deadline|\n",
    "| 3/24 | Project design, tests, vscode|\n",
    "| 3/24 | A5 Deadline|"
   ]
  }
 ],
 "metadata": {
  "kernelspec": {
   "display_name": "Python 3",
   "name": "python3"
  },
  "language_info": {
   "name": "python"
  }
 },
 "nbformat": 4,
 "nbformat_minor": 4
}