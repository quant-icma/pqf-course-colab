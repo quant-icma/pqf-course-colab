{
 "cells": [
  {
   "cell_type": "markdown",
   "metadata": {},
   "source": [
    "# Class Inheritance\n",
    ":label:`inheritance`\n",
    "\n",
    "As we have seen, classes allow you to define new types that can behave and feel\n",
    "like Python built-in types or types from the `numpy` module. \n",
    "\n",
    "They allow you to group attributes and methods to operate on them. You can encapsulate\n",
    "behaviour that is specific to your types. They also support operator overloading,\n",
    "allowing you to define what standard operators like `__call__`, `__str__`, and `__mul__`\n",
    "do when applied to your own types.\n",
    "\n",
    "Classes define types. You instantiate or construct mutliple object instances from the blueprint\n",
    "provided by your class. For example, given a class `CallPayoff` you can instantiate mutliple objects with different strikes.\n",
    "\n",
    "Through these features classes support the objective of maximizing code reuse even further than functions when applicable.\n",
    "\n",
    "In this section, we will introduce another concept supported by classes: inheritance. Inheritance is a language feature that provides a way to define hierarchies of types with subclasses inheriting from superclasses, to customize and specialize the types.\n",
    "\n",
    "## Defining Inheritance\n",
    "\n",
    "Inheritance can help us to represent objects which have some differences and some \n",
    "similarities in the way they work. We can put all the functionality that the objects \n",
    "have in common in a base class, and then define one or more subclasses with their \n",
    "own custom functionality.\n",
    "\n",
    "Subclasses lower in the inheritance hierarchy specialize behavior of classes higher \n",
    "up in the hierarchy by overriding the more general definitions of attributes/methods \n",
    "higher in the tree. The more general types are high up in the hierarchy, while more \n",
    "specialized classes are found lower down the hierarchy. Classes inherit all of the \n",
    "attributes from their ancestors and can override some.\n",
    "\n",
    "## Motivating application\n",
    "\n",
    "For instance, we are going to define a new Monte-Carlo pricing function\n",
    "that can price path-dependent options for some yet undefined option types. \n",
    "For now, we will not use vectorized operations and just do a simple loop \n",
    "over the paths.\n",
    "\n",
    "Because a path-dependent derivative's payoff depends on the value of the \n",
    "underlying at multiple times, the function needs to:\n",
    "\n",
    "- query the option object for the times that are needed\n",
    "- update the stochastic process repeatedly through the times\n",
    "- hand over the different values of the underlying at the different times\n",
    "\n",
    "### A Monte-Carlo pricing routine for path-dependent options\n",
    "\n",
    "Here is one possible implementation. Although not the best one, this serves \n",
    "to illustrate the topic:"
   ]
  },
  {
   "cell_type": "code",
   "execution_count": 1,
   "metadata": {},
   "outputs": [],
   "source": [
    "def mc_path_dependent(option_state, process, yield_curve, n_paths):\n",
    "    \"\"\"Computes the fair value of a path-dependent option using Monte-Carlo simulations.\n",
    "    \n",
    "    Parameters\n",
    "    ----------\n",
    "    option_state : OptionState\n",
    "        The option payoff state variable recorder\n",
    "    process : object with method update()\n",
    "        The underlying's stochastic process evolver\n",
    "    yield_curve : object with method discount()\n",
    "        The yield curve for discounting future cash flows\n",
    "    n_paths : int\n",
    "        The number of paths to simulate\n",
    "    \"\"\"\n",
    "\n",
    "    # Helper function to process one path\n",
    "    def do_one_path(times):\n",
    "        # move over each time node\n",
    "        for t in times: \n",
    "            # generate one standard normal variable\n",
    "            std_norm = np.random.normal() \n",
    "            # simulate the value of the underlying at the next time\n",
    "            St = process.update(t, std_norm) \n",
    "            # pass the value of the underlying at time t to the option_state\n",
    "            # so it can use it when computing the payoff\n",
    "            option_state.update(t, St) \n",
    "        \n",
    "        return option_state.calculate_payoff()\n",
    "\n",
    "\n",
    "    # query for the times needed in the simulation\n",
    "    times = option_state.times \n",
    "    # initialize the running sum to zero\n",
    "    running_sum = 0 \n",
    "    for i in range(n_paths):\n",
    "        # reset process to start a new simulation\n",
    "        process.reset()        \n",
    "        # reset option state to a start a new simulation\n",
    "        option_state.reset()\n",
    "        # simulate one path\n",
    "        path_value = do_one_path(times)\n",
    "        # update the running sum with the payoff at the end of the path\n",
    "        running_sum += path_value\n",
    "    \n",
    "    return running_sum / n_paths * yield_curve.discount(option_state.expiry)"
   ]
  },
  {
   "cell_type": "markdown",
   "metadata": {},
   "source": [
    "### Auxiliary payoff and yield curve classes\n",
    "\n",
    "We can reuse our `Call` and `FixedRateYieldCurve` classes:"
   ]
  },
  {
   "cell_type": "code",
   "execution_count": 2,
   "metadata": {},
   "outputs": [],
   "source": [
    "import numpy as np\n",
    "\n",
    "class Call:\n",
    "    \n",
    "    def __init__(self, strike):\n",
    "        self.strike = strike\n",
    "\n",
    "    def __call__(self, spot):\n",
    "        return np.maximum(spot - self.strike, 0.)\n",
    "        \n",
    "class FixedRateYieldCurve:\n",
    "    def __init__(self, rate):\n",
    "        self.rate = rate\n",
    "        \n",
    "    def discount(self, maturity):\n",
    "        return np.exp(-self.rate * maturity)"
   ]
  },
  {
   "cell_type": "markdown",
   "metadata": {},
   "source": [
    "### Stochatic Process class\n",
    "\n",
    "Let's now think how to implement a process class before looking into \n",
    "the more complex class for the option state.\n",
    "\n",
    "The Monte-Carlo pricing function requires the process object to have:\n",
    "\n",
    "- a `reset()` method to reset the process back to the start of the simulation \n",
    "  every time you do a new path\n",
    "- an `update()` method to evolve the underlying to the next time in the simulation\n",
    "\n",
    "#### A buggy implementation\n",
    "\n",
    "So here an implementation that satisfy the requirements:"
   ]
  },
  {
   "cell_type": "code",
   "execution_count": 3,
   "metadata": {},
   "outputs": [],
   "source": [
    "class BlackScholesProcess:\n",
    "    \n",
    "    def __init__(self, spot, rate, vol):  \n",
    "        self.spot = spot\n",
    "        self.rate = rate\n",
    "        self.vol = vol   \n",
    "        self.updated_spot = spot        \n",
    "        self.updated_time = 0\n",
    "\n",
    "    def __repr__(self):\n",
    "        return \"{}({!r}, {!r}, {!r}, {!r}, {!r})\".format(\n",
    "            self.__class__.__name__,\n",
    "            self.spot, self.rate, self.vol, \n",
    "            self.updated_spot, self.updated_time\n",
    "        )\n",
    "\n",
    "    def __str__(self):\n",
    "        return \"{}(spot={}, rate={}, vol={}, updated_spot={}, updated_time={})\".format(\n",
    "            self.__class__.__name__,\n",
    "            self.spot, self.rate, self.vol, \n",
    "            self.updated_spot, self.updated_time\n",
    "        )\n",
    "    \n",
    "    def reset(self):\n",
    "        self.updated_spot = self.spot        \n",
    "\n",
    "    def update(self, time, norms):        \n",
    "        self.updated_spot = self.spot * np.exp((self.rate - 0.5 * self.vol**2) * time + self.vol*np.sqrt(time)*norms)        \n",
    "        return self.updated_spot"
   ]
  },
  {
   "cell_type": "markdown",
   "metadata": {},
   "source": [
    "We create a simple function to do some basic tests so that we can reuse later on:"
   ]
  },
  {
   "cell_type": "code",
   "execution_count": 4,
   "metadata": {},
   "outputs": [],
   "source": [
    "def test_black_scholes():\n",
    "    p = BlackScholesProcess(100, 0.02, 0.2)\n",
    "    print('p0:', p)\n",
    "    st = p.update(1, 1.0)\n",
    "    print('p1:', p)\n",
    "    print('s1:', st)\n",
    "    st = p.update(2, 0.0)\n",
    "    print('p2:', p)\n",
    "    print('s2:', st)\n",
    "\n",
    "    p.reset()\n",
    "    print('reset p:', p)"
   ]
  },
  {
   "cell_type": "markdown",
   "metadata": {},
   "source": [
    "Let's try it:"
   ]
  },
  {
   "cell_type": "code",
   "execution_count": 5,
   "metadata": {},
   "outputs": [
    {
     "name": "stdout",
     "output_type": "stream",
     "text": [
      "p0: BlackScholesProcess(spot=100, rate=0.02, vol=0.2, updated_spot=100, updated_time=0)\n",
      "p1: BlackScholesProcess(spot=100, rate=0.02, vol=0.2, updated_spot=122.14027581601698, updated_time=0)\n",
      "s1: 122.14027581601698\n",
      "p2: BlackScholesProcess(spot=100, rate=0.02, vol=0.2, updated_spot=100.0, updated_time=0)\n",
      "s2: 100.0\n",
      "reset p: BlackScholesProcess(spot=100, rate=0.02, vol=0.2, updated_spot=100, updated_time=0)\n"
     ]
    }
   ],
   "source": [
    "test_black_scholes()"
   ]
  },
  {
   "cell_type": "markdown",
   "metadata": {},
   "source": [
    "It is running, but do you see any issues?\n",
    "\n",
    "In fact, there are multiple bugs:\n",
    "\n",
    "- On `print('p1:', p)` and `print('p2:', p)`, `updated_time` is still `0` even if we updated to time `1` and `2`.\n",
    "This is caused by wrong implementation in `update` as it does not update the `updated_time`. To resolve that and avoid this type of errors, we will encapsulate both mutable attributes into a single class and update them with a constructor, that way they will always be updated together. The new class can be an inner class defined inside `BlackScholesProcess`.\n",
    "\n",
    "\n",
    "- On `print('s2:', st)`, the simulated value is `100` at time `2` even if it was at `122.14...` at time `1` and we passed `0` for the brownian motion increment. We would expect to get the same value when doing the steps below"
   ]
  },
  {
   "cell_type": "code",
   "execution_count": 6,
   "metadata": {},
   "outputs": [
    {
     "name": "stdout",
     "output_type": "stream",
     "text": [
      "correct: 122.14027581601698\n",
      "forward: 122.14027581601698\n"
     ]
    }
   ],
   "source": [
    "t1 = 1\n",
    "t2 = 2\n",
    "rate = 0.02\n",
    "vol = 0.2\n",
    "St1 = 122.14027581601698\n",
    "\n",
    "## Manual calculations\n",
    "ito = rate - 0.5 * vol * vol \n",
    "dt = t2 - t1\n",
    "correct = St1 * np.exp(ito*dt)\n",
    "\n",
    "## Moving from (t=1,St=St1) to (t=2,St=St1*Return) is the same as\n",
    "## moving from (t=0, St=St1) to (t=1,St=St1*Return)\n",
    "## because what matters is value of dt and Return\n",
    "p = BlackScholesProcess(St1, rate, vol)\n",
    "forward_simul = p.update(t1, 0)\n",
    "print('correct:', correct)\n",
    "print('forward:', forward_simul)"
   ]
  },
  {
   "cell_type": "markdown",
   "metadata": {},
   "source": [
    "#### Fixing the implementation bugs\n",
    "\n",
    "So the issue is that it does not simulate the increments from  $t_i$ to $t_{i+1}$ but rather simulates\n",
    "from the initial spot at time $0$ to time `time`. We should do something like this instead \n",
    "`dt = time - self.updated_time`, then \n",
    "`self.updated_spot *= np.exp((self.rate - 0.5 * self.vol**2) * dt + self.vol*np.sqrt(dt)*norms)`\n",
    "and finally also update the time with `self.updated_time = time`"
   ]
  },
  {
   "cell_type": "code",
   "execution_count": 7,
   "metadata": {},
   "outputs": [],
   "source": [
    "class BlackScholesProcess:\n",
    "\n",
    "    class StateData:\n",
    "        \n",
    "        def __init__(self, spot, time):\n",
    "            self.spot = spot\n",
    "            self.time = time\n",
    "        \n",
    "        def __repr__(self):\n",
    "            return \"{}({!r}, {!r})\".format(\n",
    "            self.__class__.__name__,\n",
    "            self.spot, self.time\n",
    "        )\n",
    "   \n",
    "    def __init__(self, spot, rate, vol):  \n",
    "        self.spot = spot\n",
    "        self.rate = rate\n",
    "        self.vol = vol\n",
    "        # a simulation path starts at time 0 from value spot\n",
    "        self.state = self.StateData(spot, 0)\n",
    "        \n",
    "    def __repr__(self):\n",
    "        return \"{}({!r}, {!r}, {!r}, {!r})\".format(\n",
    "            self.__class__.__name__,\n",
    "            self.spot, self.rate, self.vol, self.state\n",
    "        )\n",
    "    \n",
    "    def reset(self):\n",
    "        self.state = self.StateData(self.spot, 0)\n",
    "\n",
    "    def update(self, time, norms):        \n",
    "        # calculate time increment\n",
    "        dt = time - self.state.time\n",
    "        # simulate spot incrementally\n",
    "        st = self.state.spot * np.exp((self.rate - 0.5 * self.vol**2) * dt + self.vol*np.sqrt(dt)*norms)\n",
    "        # update state\n",
    "        self.state = self.StateData(st, time)\n",
    "\n",
    "        return st"
   ]
  },
  {
   "cell_type": "markdown",
   "metadata": {},
   "source": [
    "Let's try it:"
   ]
  },
  {
   "cell_type": "code",
   "execution_count": 8,
   "metadata": {},
   "outputs": [
    {
     "name": "stdout",
     "output_type": "stream",
     "text": [
      "p0: BlackScholesProcess(100, 0.02, 0.2, StateData(100, 0))\n",
      "p1: BlackScholesProcess(100, 0.02, 0.2, StateData(122.14027581601698, 1))\n",
      "s1: 122.14027581601698\n",
      "p2: BlackScholesProcess(100, 0.02, 0.2, StateData(122.14027581601698, 2))\n",
      "s2: 122.14027581601698\n",
      "reset p: BlackScholesProcess(100, 0.02, 0.2, StateData(100, 0))\n"
     ]
    }
   ],
   "source": [
    "test_black_scholes()"
   ]
  },
  {
   "cell_type": "markdown",
   "metadata": {},
   "source": [
    "It works fine:\n",
    "\n",
    "- we can create an object and its attributes are initialized correctly\n",
    "- when we update, the object attributes are modified correctly\n",
    "- when we reset, the object attributes are reset to their initial values\n",
    "\n",
    "However, the implementation is not totally trivial. There were a few gotchas we fell\n",
    "into while implementing it which revolved around the handling of the mutable data. It\n",
    "is quite common to have bugs in code that mutates some data if multiple elements should\n",
    "mutated together as it is quite easy to miss some of them and end up with objects in an\n",
    "inconsistent state. We did handle that above by encapsulate the `updated_spot` and `updated_time`\n",
    "in a single `StateData` class and we only used through the constructor and hence we are \n",
    "ensuring that both attributes are always updating together.\n",
    "\n",
    "#### A superclass to encapsulate complex logic\n",
    "\n",
    "Another technique we now introduce is using inheritance to have a superclass implement logic\n",
    "that is common to the concept the class is meant to represent and let the subclasses implement\n",
    "the specific part that is unique to the more specialized concept represented by the subclass.\n",
    "This will allow us to achieve two objectives:\n",
    "\n",
    "- maximize code reuse since the common part is implemented only once in the superclass `Process` even if \n",
    "we have many subclasses like `BlackScholesProcess`\n",
    "- avoid some bugs by making the superclass maintain the type invariants\n",
    "\n",
    "class invariant (or type invariant) is an invariant used for constraining objects of a class. \n",
    "Methods of the class should preserve the invariant. The class invariant constrains the state stored in the object.\n",
    "\n",
    "Class invariants are established during construction and constantly maintained between calls to public methods.\n",
    "\n",
    "Let is implement the superclass `Process`."
   ]
  },
  {
   "cell_type": "code",
   "execution_count": 9,
   "metadata": {},
   "outputs": [],
   "source": [
    "class Process:\n",
    "    \"\"\"\n",
    "    A class used to simulate a stochastic process\n",
    "\n",
    "    Inner classes\n",
    "    -------------\n",
    "    StateData : encapsulates the mutable state data (spot, time)\n",
    "\n",
    "    Attributes\n",
    "    ----------\n",
    "    spot : float\n",
    "        The starting value of the stochastic process\n",
    "    state : Process.StateData\n",
    "        The current value of the mutable state (spot and time)\n",
    "    \n",
    "    Methods\n",
    "    -------\n",
    "    reset()\n",
    "        Reset the state of the object back to the initial state to start a new path\n",
    "    evolve(spot, dt, norms)\n",
    "        Simulate the next value of the spot for a time increment dt\n",
    "    update(time, norms)\n",
    "        Simulate the process to time using the standard normal variable norms\n",
    "    \"\"\"\n",
    "\n",
    "    class StateData:\n",
    "        \"\"\"Mutable state of the process\"\"\"\n",
    "\n",
    "        def __init__(self, spot, time):\n",
    "            \"\"\"\n",
    "            Parameters\n",
    "            ----------\n",
    "            spot : float\n",
    "                The current value of the stochastic process\n",
    "            time : float\n",
    "                The current time in the simulation\n",
    "            \"\"\"\n",
    "            self.spot = spot\n",
    "            self.time = time\n",
    "        \n",
    "        def __repr__(self):\n",
    "            return \"{}({!r}, {!r})\".format(\n",
    "            self.__class__.__name__,\n",
    "            self.spot, self.time\n",
    "        )\n",
    "   \n",
    "    def __init__(self, state):  \n",
    "        \"\"\"\n",
    "        Parameters\n",
    "        ----------\n",
    "        state : Process.StateData\n",
    "            The current value of the stochastic process\n",
    "        \"\"\"\n",
    "        self.spot = state.spot\n",
    "        # a simulation path starts at time 0 from value spot\n",
    "        self.state = state\n",
    "        \n",
    "    def __repr__(self):\n",
    "        return \"{}({!r}, {!r})\".format(\n",
    "            self.__class__.__name__,\n",
    "            self.spot, self.state\n",
    "        )\n",
    "    \n",
    "    def reset(self):\n",
    "        \"\"\"Reset the state before starting a new path\"\"\"\n",
    "        self.state = self.StateData(self.spot, 0)\n",
    "\n",
    "    def evolve(self, spot, dt, norms):\n",
    "        \"\"\"\n",
    "        Simulates the next value of the process for a time increment dt\n",
    "        Should be implemented in subclasses to return the next spot value\n",
    "        \n",
    "        Parameters\n",
    "        ----------\n",
    "        spot : float\n",
    "            The current value of the stochastic process\n",
    "        dt: flost\n",
    "            The time increment\n",
    "        norms: float\n",
    "            The standard normal variable to simulate a Brownian increment\n",
    "        \"\"\"\n",
    "        raise NotImplementedError(\n",
    "            \"Classes derived from Process should implement evolve() method\")\n",
    "\n",
    "    def update(self, time, norms):        \n",
    "        \"\"\"\n",
    "        Updates the process state to time `time`\n",
    "        \n",
    "        Parameters\n",
    "        ----------\n",
    "        time : float\n",
    "            The time to evolve the process to\n",
    "        norms: float\n",
    "            The standard normal variable to simulate a Brownian increment\n",
    "        \"\"\"        \n",
    "        # calculate time increment\n",
    "        dt = time - self.state.time\n",
    "        # simulate spot incrementally\n",
    "        st = self.evolve(self.state.spot, dt, norms)\n",
    "        # update state\n",
    "        self.state = self.StateData(st, time)\n",
    "\n",
    "        return st"
   ]
  },
  {
   "cell_type": "markdown",
   "metadata": {},
   "source": [
    "The `Process` class implements most of the behavior, in particular it handles all the state\n",
    "mutations and only delegates to the subclasses to implement their specific formula to \n",
    "generate $S_{t_{i+1}}$ given $S_{t_i}$ in a single function without any mutations.\n",
    "\n",
    "In a sense, the class `Process` is not complete as it leaves the `evolve` method for subclasses\n",
    "to implement. If we instantiate an instance of the class `Process` and invoke its `update` or \n",
    "`evolve` method, we will get an error:"
   ]
  },
  {
   "cell_type": "code",
   "execution_count": 10,
   "metadata": {},
   "outputs": [
    {
     "name": "stdout",
     "output_type": "stream",
     "text": [
      "Process(100, StateData(100, 0))\n",
      "got error: <ExceptionInfo NotImplementedError('Classes derived from Process should implement evolve() method') tblen=3>\n"
     ]
    }
   ],
   "source": [
    "import pytest\n",
    "x = Process(Process.StateData(100, 0))\n",
    "print(x)\n",
    "with pytest.raises(NotImplementedError) as error:\n",
    "    x.update(1, 0)\n",
    "print('got error:', error)"
   ]
  },
  {
   "cell_type": "markdown",
   "metadata": {},
   "source": [
    "We used the `pytest` module which is a testing framework we will learn to use in a future section. \n",
    "It will allow to test our code more effectively and rigorously that what we have been doing so far.\n",
    "\n",
    "#### Subclassing\n",
    "\n",
    "We now implement the `BlackScholesProcess` as a subclass that implements the `evolve` method:"
   ]
  },
  {
   "cell_type": "code",
   "execution_count": 11,
   "metadata": {},
   "outputs": [],
   "source": [
    "class BlackScholesProcess(Process):\n",
    "    \"\"\"A class used to simulate a Black-Scholes Geometric Brownian Motion process\"\"\"\n",
    "\n",
    "    def __init__(self, spot, rate, vol):  \n",
    "        \"\"\"\n",
    "        Parameters\n",
    "        ----------\n",
    "        spot : float\n",
    "\n",
    "            The starting value of the stochastic process\n",
    "        rate : float\n",
    "            The risk-free rate for the risk-neutral drift\n",
    "        vol : float\n",
    "            The annualized instantaneous volatility\n",
    "        \"\"\"\n",
    "        super().__init__(Process.StateData(spot, 0))\n",
    "        self.rate = rate\n",
    "        self.vol = vol\n",
    "        \n",
    "    def __repr__(self):\n",
    "        return \"{}({!r}, {!r}, {!r}, {!r})\".format(\n",
    "            self.__class__.__name__,\n",
    "            self.spot, self.rate, self.vol, self.state\n",
    "        )\n",
    "    \n",
    "    def evolve(self, spot, dt, norms):                \n",
    "        st = spot * np.exp((self.rate - 0.5 * self.vol**2) * dt + self.vol*np.sqrt(dt)*norms)        \n",
    "        return st"
   ]
  },
  {
   "cell_type": "markdown",
   "metadata": {},
   "source": [
    "We can test it as before:"
   ]
  },
  {
   "cell_type": "code",
   "execution_count": 12,
   "metadata": {},
   "outputs": [
    {
     "name": "stdout",
     "output_type": "stream",
     "text": [
      "p0: BlackScholesProcess(100, 0.02, 0.2, StateData(100, 0))\n",
      "p1: BlackScholesProcess(100, 0.02, 0.2, StateData(122.14027581601698, 1))\n",
      "s1: 122.14027581601698\n",
      "p2: BlackScholesProcess(100, 0.02, 0.2, StateData(122.14027581601698, 2))\n",
      "s2: 122.14027581601698\n",
      "reset p: BlackScholesProcess(100, 0.02, 0.2, StateData(100, 0))\n"
     ]
    }
   ],
   "source": [
    "test_black_scholes()"
   ]
  },
  {
   "cell_type": "markdown",
   "metadata": {},
   "source": [
    "The subclass `BlackScholesProcess` inherits from the superclass `Process` \n",
    "because of the statement `class BlackScholesProcess(Process)`. \n",
    "\n",
    "Inheriting from the class `Process`, means the subclass `BlackScholesProcess` \n",
    "includes all the attributes and methods defined in `Process` unless it overrides\n",
    "them with its own implementation.\n",
    "\n",
    "In our example, `BlackScholesProcess` inherited the attributes `spot` and `state`, \n",
    "and the methods `reset` and `update`. \n",
    "\n",
    "It overrode the method `evolve` and `__repr__`, and the constructor `__init__`. \n",
    "\n",
    "Note also how the subclass constructor calls the superclass constructor with the \n",
    "syntax `super().__init__(Process.StateData(spot, 0))`.\n",
    "\n",
    "Furthermore, notice how the overriden `evolve` method in the subclass `BlackScholesProcess`\n",
    "ends being called by the superclass method `Process.update()` that is inherited. This\n",
    "behavior is called __polymorphism__.\n",
    "\n",
    "Finally, note how the subclass can add new attributes, for example the `rate` and `vol` attributes.\n",
    "\n",
    "### OptionState class hierarchy\n",
    "\n",
    "Similarly, we now implement a superclass `OptionState`:"
   ]
  },
  {
   "cell_type": "code",
   "execution_count": 13,
   "metadata": {},
   "outputs": [],
   "source": [
    "class OptionState: \n",
    "\n",
    "    class StateData:\n",
    "\n",
    "        def __init__(self, updates, underlying, state):\n",
    "            self.updates = updates\n",
    "            self.underlying = underlying\n",
    "            self.state = state\n",
    "\n",
    "        def __repr__(self):\n",
    "            return \"{}({!r}, {!r}, {!r})\".format(\n",
    "                self.__class__.__name__,\n",
    "                self.updates, self.underlying, self.state)        \n",
    "\n",
    "\n",
    "    def __init__(self, spot, expiry, payoff, times, state_data=None):\n",
    "        self.spot = spot\n",
    "        self.expiry = expiry\n",
    "        self.payoff = payoff\n",
    "        self.times = times\n",
    "        self.state_data = state_data if state_data else self.StateData([], [], None)\n",
    "\n",
    "    def reset(self):\n",
    "        self.state_data = self.StateData([], [], None)    \n",
    "    \n",
    "    def __repr__(self):\n",
    "        return (\"{}({!r}, {!r}, {!r}, {!r}, {!r})\".format(\n",
    "            self.__class__.__name__,\n",
    "            self.spot, self.expiry, self.payoff, self.times, self.state_data))\n",
    "\n",
    "    def has_expired(self):\n",
    "        if self.state_data.updates:\n",
    "            return self.expiry <= max(self.state_data.updates)\n",
    "        else:\n",
    "            return False\n",
    "    \n",
    "    def update(self, time, underlying):\n",
    "        if time in self.times and  time not in self.state_data.updates:\n",
    "            self.state_data.updates.append(time)\n",
    "            self.state_data.underlying.append(underlying)        \n",
    "            self.state_data.state = self.update_state()        \n",
    "    \n",
    "    def update_state(self):\n",
    "        if self.has_expired():\n",
    "            return self.calculate_state_variable()\n",
    "        else:\n",
    "            return None\n",
    "        \n",
    "    def calculate_state_variable(self):\n",
    "        raise NotImplementedError(\n",
    "            \"Classes derived from OptionState should implement calculate_state_variable() method\")\n",
    "    \n",
    "\n",
    "    def calculate_payoff(self):\n",
    "        if self.has_expired():\n",
    "            return self.payoff(self.state_data.state)\n",
    "        else:\n",
    "            raise RuntimeError(\n",
    "                \"calculate_payoff() should only be called once option is expired\")\n",
    "    "
   ]
  },
  {
   "cell_type": "markdown",
   "metadata": {},
   "source": [
    "Let's try it"
   ]
  },
  {
   "cell_type": "code",
   "execution_count": 14,
   "metadata": {},
   "outputs": [
    {
     "name": "stdout",
     "output_type": "stream",
     "text": [
      "OptionState(100, 5, <function <lambda> at 0x7fad54453a60>, [1, 2, 3, 4, 5], StateData([], [], None))\n",
      "OptionState(100, 5, <function <lambda> at 0x7fad54453a60>, [1, 2, 3, 4, 5], StateData([], [], None))\n",
      "got error: <ExceptionInfo RuntimeError('calculate_payoff() should only be called once option is expired') tblen=2>\n",
      "got error: <ExceptionInfo NotImplementedError('Classes derived from OptionState should implement calculate_state_variable() method') tblen=2>\n",
      "None\n",
      "None\n"
     ]
    }
   ],
   "source": [
    "x = OptionState(100, 5, lambda x: 2 * x, [1, 2, 3, 4, 5])\n",
    "print(x)\n",
    "\n",
    "assert not x.has_expired()\n",
    "\n",
    "x.update(1.5, 200)\n",
    "print(x)\n",
    "\n",
    "with pytest.raises(RuntimeError) as error:\n",
    "    x.calculate_payoff()\n",
    "print('got error:', error)\n",
    "\n",
    "with pytest.raises(RuntimeError) as error:\n",
    "    x.calculate_state_variable()\n",
    "print('got error:', error)\n",
    "\n",
    "print(x.update_state())\n",
    "print(x.update(1, 101.))"
   ]
  },
  {
   "cell_type": "markdown",
   "metadata": {},
   "source": [
    "All the complexity is in the superclass `OptionState` as it defines \n",
    "all the behavior expected from more specific `OptionState` class that \n",
    "will inherit from it. The subclasses only have to implement their\n",
    "constructor and the `calculate_state_variable` method.\n",
    "\n",
    "For example, to implement an Asian option, we define a subclass `AsianState`\n",
    "inheriting from `OptionState`:"
   ]
  },
  {
   "cell_type": "code",
   "execution_count": 15,
   "metadata": {},
   "outputs": [],
   "source": [
    "import statistics\n",
    "\n",
    "class AsianState(OptionState): # AsianState inherits from OptionState\n",
    "\n",
    "    def __init__(self, *args, **kargs):\n",
    "        super().__init__(*args, **kargs)\n",
    "\n",
    "    def calculate_state_variable(self):\n",
    "        return statistics.mean(self.state_data.underlying)         "
   ]
  },
  {
   "cell_type": "markdown",
   "metadata": {},
   "source": [
    "We now define a function to do some basic tests on instances of subclasses\n",
    "of `OptionState`:"
   ]
  },
  {
   "cell_type": "code",
   "execution_count": 16,
   "metadata": {},
   "outputs": [],
   "source": [
    "def test_option_state(x):\n",
    "    print(x)\n",
    "\n",
    "    assert not x.has_expired()\n",
    "\n",
    "    x.update(1.5, 200)\n",
    "    print(x)\n",
    "\n",
    "    with pytest.raises(RuntimeError) as error:\n",
    "        x.calculate_payoff()\n",
    "    print('got error:', error)\n",
    "\n",
    "    x.update(1, 101.)\n",
    "    assert not x.has_expired()\n",
    "    x.update(2, 102.)\n",
    "    assert not x.has_expired()\n",
    "    x.update(3, 103.)\n",
    "    assert not x.has_expired()\n",
    "    x.update(4, 104.)\n",
    "    assert not x.has_expired()\n",
    "    x.update(5, 105.)\n",
    "    assert x.has_expired()\n",
    "\n",
    "    print(x.calculate_payoff())"
   ]
  },
  {
   "cell_type": "code",
   "execution_count": 17,
   "metadata": {},
   "outputs": [
    {
     "name": "stdout",
     "output_type": "stream",
     "text": [
      "AsianState(100, 5, <function <lambda> at 0x7fad544078b0>, [1, 2, 3, 4, 5], StateData([], [], None))\n",
      "AsianState(100, 5, <function <lambda> at 0x7fad544078b0>, [1, 2, 3, 4, 5], StateData([], [], None))\n",
      "got error: <ExceptionInfo RuntimeError('calculate_payoff() should only be called once option is expired') tblen=2>\n",
      "206.0\n"
     ]
    }
   ],
   "source": [
    "asian_state = AsianState(100, 5, lambda x: 2 * x, [1, 2, 3, 4, 5])\n",
    "test_option_state(asian_state)"
   ]
  },
  {
   "cell_type": "markdown",
   "metadata": {},
   "source": [
    "We can implement other path-dependent options as easily, for example:"
   ]
  },
  {
   "cell_type": "code",
   "execution_count": 18,
   "metadata": {},
   "outputs": [],
   "source": [
    "class MaxState(OptionState):\n",
    "\n",
    "    def __init__(self, *args, **kargs): \n",
    "        super().__init__(*args, **kargs)               \n",
    "\n",
    "    def calculate_state_variable(self):\n",
    "        return max(self.state_data.underlying)        "
   ]
  },
  {
   "cell_type": "code",
   "execution_count": 19,
   "metadata": {},
   "outputs": [
    {
     "name": "stdout",
     "output_type": "stream",
     "text": [
      "MaxState(100, 5, <function <lambda> at 0x7fad54407ca0>, [1, 2, 3, 4, 5], StateData([], [], None))\n",
      "MaxState(100, 5, <function <lambda> at 0x7fad54407ca0>, [1, 2, 3, 4, 5], StateData([], [], None))\n",
      "got error: <ExceptionInfo RuntimeError('calculate_payoff() should only be called once option is expired') tblen=2>\n",
      "105.0\n"
     ]
    }
   ],
   "source": [
    "max_state = MaxState(100, 5, lambda x: x, [1, 2, 3, 4, 5])\n",
    "test_option_state(max_state)"
   ]
  },
  {
   "cell_type": "markdown",
   "metadata": {},
   "source": [
    "### Putting it together\n",
    "\n",
    "Let's now use our classes to price an Asian option using the path-dependent pricing function:"
   ]
  },
  {
   "cell_type": "code",
   "execution_count": 20,
   "metadata": {},
   "outputs": [
    {
     "data": {
      "text/plain": [
       "14.1866392666187"
      ]
     },
     "execution_count": 20,
     "metadata": {},
     "output_type": "execute_result"
    }
   ],
   "source": [
    "T = 5.\n",
    "S_0 = 100.\n",
    "vol = 0.2\n",
    "r = 0.02\n",
    "K = 100\n",
    "N = 10000\n",
    "\n",
    "times = [1, 2, 3, 4, 5]\n",
    "yield_curve = FixedRateYieldCurve(r)\n",
    "rand_process = BlackScholesProcess(S_0, r, vol)\n",
    "call_payoff = Call(K)\n",
    "x = AsianState(S_0, T, call_payoff, times)\n",
    "\n",
    "p = mc_path_dependent(x, rand_process, yield_curve, N)\n",
    "p"
   ]
  },
  {
   "cell_type": "markdown",
   "metadata": {},
   "source": [
    "We can also check our function also works for the `MaxState` subclass:"
   ]
  },
  {
   "cell_type": "code",
   "execution_count": 21,
   "metadata": {},
   "outputs": [
    {
     "data": {
      "text/plain": [
       "31.150778705556572"
      ]
     },
     "execution_count": 21,
     "metadata": {},
     "output_type": "execute_result"
    }
   ],
   "source": [
    "rand_process = BlackScholesProcess(S_0, r, vol)\n",
    "y = MaxState(S_0, T, call_payoff, times)\n",
    "l = mc_path_dependent(y, rand_process, yield_curve, N)\n",
    "l"
   ]
  },
  {
   "cell_type": "markdown",
   "metadata": {},
   "source": [
    "### Performance comparison\n",
    "\n",
    "Let's compare the performance vs a simple vectorized implementation for Asian options:"
   ]
  },
  {
   "cell_type": "code",
   "execution_count": 22,
   "metadata": {},
   "outputs": [],
   "source": [
    "from scipy import stats\n",
    "import numpy as np\n",
    "import math\n",
    "\n",
    "def mc_asian_vectorized(dt, times, spot, strike, rate, vol, maturity, n_paths):    \n",
    "    e = np.random.normal(size=(n_paths,times.size))\n",
    "    dW_t = math.sqrt(dt) * e\n",
    "    W_t = np.cumsum(dW_t, axis=1)\n",
    "\n",
    "    St = spot * np.exp((rate-0.5*vol**2)*times + vol * W_t)\n",
    "    A = np.mean(St, axis=1)\n",
    "    Ct =  np.maximum(A - strike, 0) \n",
    "    return math.exp(-rate*maturity) * np.mean(Ct)"
   ]
  },
  {
   "cell_type": "code",
   "execution_count": 23,
   "metadata": {},
   "outputs": [
    {
     "name": "stdout",
     "output_type": "stream",
     "text": [
      "12.029982932940722 7.2420477867126465\n"
     ]
    }
   ],
   "source": [
    "import time\n",
    "\n",
    "T = 5.\n",
    "S_0 = 100.\n",
    "vol = 0.2\n",
    "r = 0.02\n",
    "K = 100\n",
    "N = 10000\n",
    "\n",
    "dt = 1/12\n",
    "\n",
    "times = np.arange(0, T+dt, dt)\n",
    "\n",
    "yield_curve = FixedRateYieldCurve(r)\n",
    "rand_process = BlackScholesProcess(S_0, r, vol)\n",
    "call_payoff = Call(K)\n",
    "x = AsianState(S_0, T, call_payoff, times)\n",
    "\n",
    "start = time.time()\n",
    "p = mc_path_dependent(x, rand_process, yield_curve, N)\n",
    "end = time.time()\n",
    "print(p, end-start)"
   ]
  },
  {
   "cell_type": "code",
   "execution_count": 24,
   "metadata": {},
   "outputs": [
    {
     "name": "stdout",
     "output_type": "stream",
     "text": [
      "12.392244064721993 0.030224323272705078\n"
     ]
    }
   ],
   "source": [
    "start = time.time()\n",
    "p = mc_asian_vectorized(dt, times, S_0, K, r, 0.2, T, N)\n",
    "end = time.time()\n",
    "print(p, end-start)"
   ]
  },
  {
   "cell_type": "markdown",
   "metadata": {},
   "source": [
    "## Conclusion\n",
    "\n",
    "Although, we managed to design convenient and re-usable components through\n",
    "classes and inheritance, our path-dependent pricing function ended up \n",
    "significantly slower because we did not make use of vectorization which is\n",
    "critical for performance when doing numerical work with Python. \n",
    "In a future topic, we will re-visit this example to speed up the implementation."
   ]
  }
 ],
 "metadata": {
  "kernelspec": {
   "display_name": "Python 3",
   "name": "python3"
  },
  "language_info": {
   "name": "python"
  }
 },
 "nbformat": 4,
 "nbformat_minor": 4
}