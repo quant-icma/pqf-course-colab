{
 "cells": [
  {
   "cell_type": "markdown",
   "metadata": {},
   "source": [
    "# Sections\n",
    "\n",
    ":begin_tab:toc\n",
    " - [s1_intro](s1_intro.ipynb)\n",
    " - [s2_essentials](s2_essentials.ipynb)\n",
    " - [s3_functions](s3_functions.ipynb)\n",
    " - [s4_numpy](s4_numpy.ipynb)\n",
    " - [s5_morenp](s5_morenp.ipynb)\n",
    " - [s6_classes](s6_classes.ipynb)\n",
    ":end_tab:\n"
   ]
  }
 ],
 "metadata": {
  "kernelspec": {
   "display_name": "Python 3",
   "name": "python3"
  },
  "language_info": {
   "name": "python"
  }
 },
 "nbformat": 4,
 "nbformat_minor": 4
}