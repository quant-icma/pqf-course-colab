{
 "cells": [
  {
   "cell_type": "markdown",
   "metadata": {},
   "source": [
    "# Python plotting packages\n",
    "\n",
    "## Overview\n",
    "\n",
    "We have already used [Matplotlib](http://matplotlib.org/) in the previous section for plotting functions. Matplotlib is the go-to graphics library in Python, designed for scientific computing, with\n",
    "\n",
    "* high-quality 2D and 3D plots\n",
    "* output in all the usual formats (PDF, PNG, etc.)\n",
    "* LaTeX integration\n",
    "* fine-grained control over all aspects of presentation\n",
    "* animation, etc.\n",
    "\n",
    "In this section we will cover Matplotlib in a bit more depth and introduce some other plotting libraries: \n",
    "\n",
    "* [Seaborn](https://seaborn.pydata.org)\n",
    "* [Plotly](https://plotly.com/python)"
   ]
  }
 ],
 "metadata": {
  "kernelspec": {
   "display_name": "Python 3",
   "name": "python3"
  },
  "language_info": {
   "name": "python"
  }
 },
 "nbformat": 4,
 "nbformat_minor": 4
}