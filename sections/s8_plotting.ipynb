{
 "cells": [
  {
   "cell_type": "markdown",
   "metadata": {},
   "source": [
    "# Python plotting packages\n",
    "\n",
    "## Overview\n",
    "\n",
    "We have already used [Matplotlib](http://matplotlib.org/) in the previous section for plotting functions. Matplotlib is the go-to graphics library in Python, designed for scientific computing, with\n",
    "\n",
    "* high-quality 2D and 3D plots\n",
    "* output in all the usual formats (PDF, PNG, etc.)\n",
    "* LaTeX integration\n",
    "* fine-grained control over all aspects of presentation\n",
    "* animation, etc.\n",
    "\n",
    "In this section we will cover Matplotlib in a bit more depth and introduce some other plotting libraries: \n",
    "\n",
    "* [Seaborn](https://seaborn.pydata.org)\n",
    "* [Plotly](https://plotly.com/python)\n",
    "\n",
    "## Matplotlib\n",
    "\n",
    "Recommended tutorials:\n",
    "\n",
    "- [scipy lectures](http://scipy-lectures.org/intro/matplotlib/index.html)\n",
    "- [Python Data Science Handbook](https://jakevdp.github.io/PythonDataScienceHandbook/04.00-introduction-to-matplotlib.html)\n",
    "\n",
    "\n",
    "## Seaborn\n",
    "\n",
    "A recommended tutorial is [Seaborn tutorial](https://seaborn.pydata.org/tutorial.html)\n",
    "\n",
    "## Plotly\n",
    "\n",
    "Plotly tutorials are available here [Plotly tutorials](https://plotly.com/python/)"
   ]
  }
 ],
 "metadata": {
  "kernelspec": {
   "display_name": "Python 3",
   "name": "python3"
  },
  "language_info": {
   "name": "python"
  }
 },
 "nbformat": 4,
 "nbformat_minor": 4
}