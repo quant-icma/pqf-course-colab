{
 "cells": [
  {
   "cell_type": "markdown",
   "metadata": {},
   "source": [
    "# Introduction to classes\n",
    "\n",
    "## Code reuse with functions\n",
    "\n",
    "Here is some simple code to price a European call option by Monte-Carlo simulations:"
   ]
  },
  {
   "cell_type": "code",
   "execution_count": 1,
   "metadata": {},
   "outputs": [
    {
     "data": {
      "text/plain": [
       "21.465504355129692"
      ]
     },
     "execution_count": 1,
     "metadata": {},
     "output_type": "execute_result"
    }
   ],
   "source": [
    "import numpy as np\n",
    "\n",
    "T = 5\n",
    "S_0 = 100.\n",
    "vol = 0.2\n",
    "r = 0.02\n",
    "N = 10000\n",
    "K = 100\n",
    "\n",
    "W = np.sqrt(T) * np.random.normal(size=N)\n",
    "S_T = S_0 * np.exp( (r-0.5*vol**2)*T + vol*W )\n",
    "C_T = np.exp(-r*T) * np.maximum(S_T-K, 0.)\n",
    "C_0 = np.average(C_T)\n",
    "C_0"
   ]
  },
  {
   "cell_type": "markdown",
   "metadata": {},
   "source": [
    "Because we have already learned about functions and we aim to have re-usable code,\n",
    "we encapsulate the code into a function:"
   ]
  },
  {
   "cell_type": "code",
   "execution_count": 2,
   "metadata": {},
   "outputs": [],
   "source": [
    "def mc_price_call(spot, rate, vol, maturity, strike, n_paths):\n",
    "    W = np.sqrt(maturity) * np.random.normal(size=n_paths)\n",
    "    S_T = spot * np.exp( (rate-0.5*vol**2)*maturity + vol*W )\n",
    "    V_T = np.exp(-rate*maturity) * np.maximum(S_T-strike, 0.)\n",
    "    V_0 = np.average(V_T)   \n",
    "\n",
    "    return V_0"
   ]
  },
  {
   "cell_type": "markdown",
   "metadata": {},
   "source": [
    "Now we can call our function whenever we need to price a call:"
   ]
  },
  {
   "cell_type": "code",
   "execution_count": 3,
   "metadata": {},
   "outputs": [
    {
     "data": {
      "text/plain": [
       "21.635293227077444"
      ]
     },
     "execution_count": 3,
     "metadata": {},
     "output_type": "execute_result"
    }
   ],
   "source": [
    "c = mc_price_call(S_0, r, vol, T, K, N)\n",
    "c"
   ]
  },
  {
   "cell_type": "markdown",
   "metadata": {},
   "source": [
    "How about puts? \n",
    "\n",
    "You could just copy the function, give it a new name and change just the payoff\n",
    "calculation from `np.maximum(S_T-strike, 0.)` to `np.maximum(strike-K, 0.)`"
   ]
  },
  {
   "cell_type": "code",
   "execution_count": 4,
   "metadata": {},
   "outputs": [],
   "source": [
    "def mc_price_put(spot, rate, vol, maturity, strike, n_paths):\n",
    "    W = np.sqrt(maturity) * np.random.normal(size=n_paths)\n",
    "    S_T = spot * np.exp( (rate-0.5*vol**2)*maturity + vol*W ) \n",
    "    # Put payoff    \n",
    "    V_T = np.exp(-rate*maturity) * np.maximum(strike-S_T, 0.) \n",
    "    V_0 = np.average(V_T)   \n",
    "\n",
    "    return V_0"
   ]
  },
  {
   "cell_type": "markdown",
   "metadata": {},
   "source": [
    "This works:"
   ]
  },
  {
   "cell_type": "code",
   "execution_count": 5,
   "metadata": {},
   "outputs": [
    {
     "data": {
      "text/plain": [
       "12.38837082223212"
      ]
     },
     "execution_count": 5,
     "metadata": {},
     "output_type": "execute_result"
    }
   ],
   "source": [
    "p = mc_price_put(S_0, r, vol, T, K, N)\n",
    "p"
   ]
  },
  {
   "cell_type": "markdown",
   "metadata": {},
   "source": [
    "but is very unsatisfactory. The whole point about functions is to reuse code, but ended up\n",
    "creating a whole function which was almost a copy of the previous one except for swapping\n",
    "the payoff calculation.\n",
    "\n",
    "It would seem that you would want to parametrize the function with an argument to calculate the payoff, so that it can vary based on what option you want to price.\n",
    "\n",
    "So we instead create a function that takes a `payoff` argument which we use as a function to\n",
    "calculate the payoff on each path by invoking it, i.e. `payoff(S_T)`"
   ]
  },
  {
   "cell_type": "code",
   "execution_count": 6,
   "metadata": {},
   "outputs": [],
   "source": [
    "def mc_price_european(spot, rate, vol, maturity, strike, n_paths, payoff):\n",
    "    W = np.sqrt(maturity) * np.random.normal(size=n_paths)\n",
    "    S_T = spot * np.exp( (rate-0.5*vol**2)*maturity + vol*W )     \n",
    "    V_T = np.exp(-rate*maturity) * payoff(S_T)\n",
    "    V_0 = np.average(V_T)   \n",
    "\n",
    "    return V_0"
   ]
  },
  {
   "cell_type": "markdown",
   "metadata": {},
   "source": [
    "We can now use the new function to implement the call one"
   ]
  },
  {
   "cell_type": "code",
   "execution_count": 7,
   "metadata": {},
   "outputs": [
    {
     "data": {
      "text/plain": [
       "22.264585540324845"
      ]
     },
     "execution_count": 7,
     "metadata": {},
     "output_type": "execute_result"
    }
   ],
   "source": [
    "def mc_price_call(spot, rate, vol, maturity, strike, n_paths):\n",
    "    def payoff_function(S):\n",
    "        return np.maximum(S-strike, 0.)\n",
    "    \n",
    "    return mc_price_european(spot, rate, vol, maturity, strike, n_paths, payoff_function)\n",
    "\n",
    "c = mc_price_call(S_0, r, vol, T, K, N)\n",
    "c"
   ]
  },
  {
   "cell_type": "markdown",
   "metadata": {},
   "source": [
    "Note, how we were able to define a local function inside another function. \n",
    "\n",
    "Let's also implement the put pricing function:"
   ]
  },
  {
   "cell_type": "code",
   "execution_count": 8,
   "metadata": {},
   "outputs": [
    {
     "data": {
      "text/plain": [
       "12.58559890168766"
      ]
     },
     "execution_count": 8,
     "metadata": {},
     "output_type": "execute_result"
    }
   ],
   "source": [
    "def mc_price_put(spot, rate, vol, maturity, strike, n_paths):\n",
    "    p = lambda x : np.maximum(strike-x, 0.)\n",
    "    return mc_price_european(spot, rate, vol, maturity, strike, n_paths, p)\n",
    "\n",
    "p = mc_price_put(S_0, r, vol, T, K, N)\n",
    "p"
   ]
  },
  {
   "cell_type": "markdown",
   "metadata": {},
   "source": [
    "Note how this time we used a `lambda` or anonymous function instead of defining a named function.\n",
    "\n",
    "We can use that to actually call our `mc_price_european` function with arbitray payoffs\n",
    "created on the fly when invoking the function:"
   ]
  },
  {
   "cell_type": "code",
   "execution_count": 9,
   "metadata": {},
   "outputs": [
    {
     "data": {
      "text/plain": [
       "9.267292694517682"
      ]
     },
     "execution_count": 9,
     "metadata": {},
     "output_type": "execute_result"
    }
   ],
   "source": [
    "z = mc_price_european(S_0, r, vol, T, K, N, lambda x: np.sqrt(x))\n",
    "z"
   ]
  },
  {
   "cell_type": "markdown",
   "metadata": {},
   "source": [
    "## First look at classes\n",
    "\n",
    "If you think about what the payoff of an option is, you would come to the conclusion\n",
    "that the `strike` is an attribute of the payoff, and the maturity and the payoff\n",
    "itself are attributes of the option. Furthermore, a payoff is an object that can calculate\n",
    "the value of the payoff scenarios given scenarios of the underlying at maturity.\n",
    "\n",
    "To represent types that have attributes and behavior, we need to use the `class` keyword.\n",
    "Classes allow you to define your own types with their attributes and behaviors."
   ]
  },
  {
   "cell_type": "code",
   "execution_count": 10,
   "metadata": {},
   "outputs": [],
   "source": [
    "# Hide code \n",
    "\n",
    "class CallPayoff:  # define a class object\n",
    "\n",
    "    # define a constructor taking the strike\n",
    "    # self is the instance object being constructed\n",
    "    def __init__(self, strike):\n",
    "        self.strike = strike  # instance object strike attribute set by constructor\n",
    "\n",
    "\n",
    "    # define calculate method\n",
    "    def calculate(self, spot):\n",
    "        return np.maximum(spot - self.strike, 0.)"
   ]
  },
  {
   "cell_type": "markdown",
   "metadata": {},
   "source": [
    "Let's see how you would use your new `CallPayoff` type  for example.\n",
    "\n",
    "You would construct or initialize it with a strike value"
   ]
  },
  {
   "cell_type": "code",
   "execution_count": 11,
   "metadata": {},
   "outputs": [],
   "source": [
    "call_payoff = CallPayoff(K)"
   ]
  },
  {
   "cell_type": "markdown",
   "metadata": {},
   "source": [
    "then you could access its strike attribute"
   ]
  },
  {
   "cell_type": "code",
   "execution_count": 12,
   "metadata": {},
   "outputs": [
    {
     "data": {
      "text/plain": [
       "100"
      ]
     },
     "execution_count": 12,
     "metadata": {},
     "output_type": "execute_result"
    }
   ],
   "source": [
    "call_payoff.strike"
   ]
  },
  {
   "cell_type": "markdown",
   "metadata": {},
   "source": [
    "similarly you would invoke its `calculate` method, passing to it the scenarios of the \n",
    "underlying at expiry and it would return the value of the payoff"
   ]
  },
  {
   "cell_type": "code",
   "execution_count": 13,
   "metadata": {},
   "outputs": [
    {
     "data": {
      "text/plain": [
       "20.0"
      ]
     },
     "execution_count": 13,
     "metadata": {},
     "output_type": "execute_result"
    }
   ],
   "source": [
    "pay = call_payoff.calculate(120.)\n",
    "pay"
   ]
  },
  {
   "cell_type": "markdown",
   "metadata": {},
   "source": [
    "This is the type of the object"
   ]
  },
  {
   "cell_type": "code",
   "execution_count": 14,
   "metadata": {},
   "outputs": [
    {
     "data": {
      "text/plain": [
       "__main__.CallPayoff"
      ]
     },
     "execution_count": 14,
     "metadata": {},
     "output_type": "execute_result"
    }
   ],
   "source": [
    "type(call_payoff)"
   ]
  },
  {
   "cell_type": "markdown",
   "metadata": {},
   "source": [
    "This is how you would define the class to get the behavior above:"
   ]
  },
  {
   "cell_type": "code",
   "execution_count": 15,
   "metadata": {},
   "outputs": [],
   "source": [
    "class CallPayoff:  # define a class object\n",
    "\n",
    "    # define a constructor taking the strike\n",
    "    # self is the instance object being constructed\n",
    "    def __init__(self, strike):\n",
    "        self.strike = strike  # instance object strike attribute set by constructor\n",
    "\n",
    "\n",
    "    # define calculate method\n",
    "    def calculate(self, spot):\n",
    "        return np.maximum(spot - self.strike, 0.)"
   ]
  },
  {
   "cell_type": "markdown",
   "metadata": {},
   "source": [
    "When we invoke `print` on a python object, we usually get some meaningful string,\n",
    "for example"
   ]
  },
  {
   "cell_type": "code",
   "execution_count": 16,
   "metadata": {},
   "outputs": [
    {
     "data": {
      "text/plain": [
       "[1.0, 2.0, 3.0]"
      ]
     },
     "execution_count": 16,
     "metadata": {},
     "output_type": "execute_result"
    }
   ],
   "source": [
    "a = [ 1., 2., 3.]\n",
    "a"
   ]
  },
  {
   "cell_type": "code",
   "execution_count": 17,
   "metadata": {},
   "outputs": [
    {
     "data": {
      "text/plain": [
       "array([1., 2., 3.])"
      ]
     },
     "execution_count": 17,
     "metadata": {},
     "output_type": "execute_result"
    }
   ],
   "source": [
    "b = np.array(a)\n",
    "b"
   ]
  },
  {
   "cell_type": "code",
   "execution_count": 18,
   "metadata": {},
   "outputs": [
    {
     "name": "stdout",
     "output_type": "stream",
     "text": [
      "[1.0, 2.0, 3.0]\n",
      "[1. 2. 3.]\n"
     ]
    }
   ],
   "source": [
    "print(a)\n",
    "print(b)"
   ]
  },
  {
   "cell_type": "markdown",
   "metadata": {},
   "source": [
    "Let's try that with our type"
   ]
  },
  {
   "cell_type": "code",
   "execution_count": 19,
   "metadata": {},
   "outputs": [
    {
     "name": "stdout",
     "output_type": "stream",
     "text": [
      "<__main__.CallPayoff object at 0x7fcfb4433a00>\n"
     ]
    }
   ],
   "source": [
    "print(call_payoff)"
   ]
  },
  {
   "cell_type": "code",
   "execution_count": 20,
   "metadata": {},
   "outputs": [
    {
     "data": {
      "text/plain": [
       "<__main__.CallPayoff at 0x7fcfb4433a00>"
      ]
     },
     "execution_count": 20,
     "metadata": {},
     "output_type": "execute_result"
    }
   ],
   "source": [
    "call_payoff"
   ]
  },
  {
   "cell_type": "markdown",
   "metadata": {},
   "source": [
    "Let's make that more meaningful by adding some special Python operators to our class:"
   ]
  },
  {
   "cell_type": "code",
   "execution_count": 21,
   "metadata": {},
   "outputs": [],
   "source": [
    "\n",
    "class CallPayoff:\n",
    "\n",
    "    def __init__(self, strike):\n",
    "        self.strike = strike\n",
    "\n",
    "    def calculate(self, spot):\n",
    "        return np.maximum(spot - self.strike, 0.)\n",
    "\n",
    "    def __repr__(self):\n",
    "        return 'CallPayoff({0})'.format(self.strike)        \n",
    "    \n",
    "    def __str__(self):\n",
    "        return 'European call payoff with strike {0}'.format(self.strike)        "
   ]
  },
  {
   "cell_type": "markdown",
   "metadata": {},
   "source": [
    "`__repr__()` is meant to return a string representation of the object and is called by the \n",
    "built-in `repr()` function or when evaluating objects, for example:"
   ]
  },
  {
   "cell_type": "code",
   "execution_count": 22,
   "metadata": {},
   "outputs": [
    {
     "data": {
      "text/plain": [
       "'CallPayoff(100)'"
      ]
     },
     "execution_count": 22,
     "metadata": {},
     "output_type": "execute_result"
    }
   ],
   "source": [
    "call_payoff = CallPayoff(K)\n",
    "repr(call_payoff)"
   ]
  },
  {
   "cell_type": "code",
   "execution_count": 23,
   "metadata": {},
   "outputs": [
    {
     "data": {
      "text/plain": [
       "CallPayoff(100)"
      ]
     },
     "execution_count": 23,
     "metadata": {},
     "output_type": "execute_result"
    }
   ],
   "source": [
    "call_payoff"
   ]
  },
  {
   "cell_type": "markdown",
   "metadata": {},
   "source": [
    "`__str__()` also returns a string representation destined to print output and be readable for users. It is called by the built-in `str()` and `print()` functions"
   ]
  },
  {
   "cell_type": "code",
   "execution_count": 24,
   "metadata": {},
   "outputs": [
    {
     "name": "stdout",
     "output_type": "stream",
     "text": [
      "European call payoff with strike 100\n"
     ]
    },
    {
     "data": {
      "text/plain": [
       "'European call payoff with strike 100'"
      ]
     },
     "execution_count": 24,
     "metadata": {},
     "output_type": "execute_result"
    }
   ],
   "source": [
    "print(call_payoff)\n",
    "str(call_payoff)"
   ]
  },
  {
   "cell_type": "markdown",
   "metadata": {},
   "source": [
    "To use our class with the Monte-Carlo function would not immediately work, because the Monte-Carlo function expects a callable object that is invoked like `call_payoff(S_T)`.\n",
    "Although, our class has a payoff calculation method, it is invoked with the syntax\n",
    "`call_payoff.calculate(S_T)`. We could change the Monte-Carlo to use this syntax, but \n",
    "Python also defines a callable operator that you can implement for your classes and it will be\n",
    "invoked whenever the function call syntax is used. The operator is `__call__()` and you define\n",
    "it in your class, object instance created from the class will behave like functions when\n",
    "they are invoked with function call syntax:"
   ]
  },
  {
   "cell_type": "code",
   "execution_count": 25,
   "metadata": {},
   "outputs": [],
   "source": [
    "class CallPayoff:\n",
    "\n",
    "    def __init__(self, strike):\n",
    "        self.strike = strike\n",
    "\n",
    "    def __call__(self, spot):\n",
    "        return np.maximum(spot - self.strike, 0.)"
   ]
  },
  {
   "cell_type": "markdown",
   "metadata": {},
   "source": [
    "We can now have a new version of the Monte-Carlo function that does not need\n",
    "to take the strike as an argument since it is an attribute of the payoff:"
   ]
  },
  {
   "cell_type": "code",
   "execution_count": 26,
   "metadata": {},
   "outputs": [],
   "source": [
    "def mc_price_european(spot, rate, vol, maturity, n_paths, payoff):\n",
    "    W = np.sqrt(maturity) * np.random.normal(size=n_paths)\n",
    "    S_T = spot * np.exp( (rate-0.5*vol**2)*maturity + vol*W )     \n",
    "    V_T = np.exp(-rate*maturity) * payoff(S_T)\n",
    "    V_0 = np.average(V_T)   \n",
    "\n",
    "    return V_0"
   ]
  },
  {
   "cell_type": "markdown",
   "metadata": {},
   "source": [
    "Let's try it"
   ]
  },
  {
   "cell_type": "code",
   "execution_count": 27,
   "metadata": {},
   "outputs": [
    {
     "data": {
      "text/plain": [
       "21.94320686495762"
      ]
     },
     "execution_count": 27,
     "metadata": {},
     "output_type": "execute_result"
    }
   ],
   "source": [
    "call_payoff = CallPayoff(K)\n",
    "z = mc_price_european(S_0, r, vol, T, N, call_payoff)\n",
    "z"
   ]
  }
 ],
 "metadata": {
  "kernelspec": {
   "display_name": "Python 3",
   "name": "python3"
  },
  "language_info": {
   "name": "python"
  }
 },
 "nbformat": 4,
 "nbformat_minor": 4
}